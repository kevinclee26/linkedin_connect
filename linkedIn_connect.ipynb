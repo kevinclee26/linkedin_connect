{
 "cells": [
  {
   "cell_type": "code",
   "execution_count": 27,
   "id": "4f0d918a",
   "metadata": {},
   "outputs": [],
   "source": [
    "from bs4 import BeautifulSoup\n",
    "with open('data/linkedin_connect.html') as f: \n",
    "    soup=BeautifulSoup(f, 'html.parser')\n",
    "reactions=soup.find_all('li', class_='artdeco-list__item')\n",
    "reaction_list=[]\n",
    "for each_reaction in reactions: \n",
    "    reaction={'link': each_reaction.find('a')['href'], \n",
    "              'name': each_reaction.find('div', class_='artdeco-entity-lockup__title').span.text.strip(), \n",
    "              'connection': each_reaction.find('span', class_='artdeco-entity-lockup__degree').text.strip().replace('·\\xa0', ''), \n",
    "              'description': each_reaction.find('div', class_='artdeco-entity-lockup__caption').text.strip(), \n",
    "              'article_link': 'https://www.linkedin.com/feed/update/urn:li:activity:6804666680736833536/'}\n",
    "    if '1st' in reaction['connection']: \n",
    "        reaction['connected']=True\n",
    "    else: \n",
    "        reaction['connected']=False\n",
    "    reaction_list.append(reaction)"
   ]
  },
  {
   "cell_type": "code",
   "execution_count": 29,
   "id": "899972d9",
   "metadata": {},
   "outputs": [],
   "source": [
    "import pandas as pd\n",
    "df=pd.DataFrame(reaction_list)"
   ]
  },
  {
   "cell_type": "code",
   "execution_count": 6,
   "id": "eef737b7",
   "metadata": {},
   "outputs": [],
   "source": [
    "articles_list={'https://www.linkedin.com/feed/update/urn:li:activity:6804666680736833536/': 'sentiment analysis'}"
   ]
  },
  {
   "cell_type": "code",
   "execution_count": 7,
   "id": "c311b344",
   "metadata": {},
   "outputs": [
    {
     "name": "stderr",
     "output_type": "stream",
     "text": [
      "[WDM] - ====== WebDriver manager ======\n"
     ]
    },
    {
     "name": "stdout",
     "output_type": "stream",
     "text": [
      "\n",
      "\n"
     ]
    },
    {
     "name": "stderr",
     "output_type": "stream",
     "text": [
      "[WDM] - Current google-chrome version is 91.0.4472\n",
      "[WDM] - Get LATEST driver version for 91.0.4472\n",
      "[WDM] - Driver [/Users/kevinlee/.wdm/drivers/chromedriver/mac64/91.0.4472.19/chromedriver] found in cache\n"
     ]
    }
   ],
   "source": [
    "from webdriver_manager.chrome import ChromeDriverManager\n",
    "from splinter import Browser\n",
    "import time\n",
    "# browser = init_browser()\n",
    "executable_path = {'executable_path': ChromeDriverManager().install()}\n",
    "browser = Browser('chrome', **executable_path, headless=False)"
   ]
  },
  {
   "cell_type": "code",
   "execution_count": 8,
   "id": "9920dfed",
   "metadata": {},
   "outputs": [],
   "source": [
    "from dotenv import load_dotenv\n",
    "import os\n",
    "load_dotenv()\n",
    "username=os.environ['username']\n",
    "password=os.environ['password']"
   ]
  },
  {
   "cell_type": "code",
   "execution_count": 97,
   "id": "2181f333",
   "metadata": {},
   "outputs": [],
   "source": [
    "from nameparser import HumanName\n",
    "import random\n",
    "MAX_WAIT=10\n",
    "MIN_WAIT=5\n",
    "def generate_invite(name, article): \n",
    "    return f'Hi {name.capitalize()} - I wanted to thank you for taking the time to read and like my article on {article.lower()}. I enjoy learning about what other data-focused people are interested in and working on. I would love to make a connection.'\n",
    "def get_alias(full_name):\n",
    "    name=HumanName(full_name)\n",
    "    if name.nickname: \n",
    "        return name.nickname.capitalize()\n",
    "    else: \n",
    "        return name['first'].capitalize()\n",
    "def get_article_summary(link): \n",
    "    return articles_list[link]    \n",
    "def browser_init(): \n",
    "    executable_path = {'executable_path': ChromeDriverManager().install()}\n",
    "    browser = Browser('chrome', **executable_path, headless=False)\n",
    "    return browser    \n",
    "def login(browser, username, password): \n",
    "    url='https://www.linkedin.com/'\n",
    "    browser.visit(url)\n",
    "    time.sleep(1)\n",
    "\n",
    "    browser.find_by_id('session_key').type(username)\n",
    "    time.sleep(1)\n",
    "    browser.find_by_id('session_password').type(password)\n",
    "    time.sleep(1)\n",
    "    browser.find_by_css('button[class=\"sign-in-form__submit-button\"]').click()\n",
    "    time.sleep(1)\n",
    "    return True\n",
    "# browser.find_by_id('session_key').type('@gmail.com', slowly=True)#click()\n",
    "# browser.type('kevin.c.lee26@gmail.com', slowly=True)"
   ]
  },
  {
   "cell_type": "code",
   "execution_count": 103,
   "id": "0ce36183",
   "metadata": {
    "scrolled": false
   },
   "outputs": [
    {
     "name": "stderr",
     "output_type": "stream",
     "text": [
      "[WDM] - ====== WebDriver manager ======\n",
      "[WDM] - Current google-chrome version is 91.0.4472\n",
      "[WDM] - Get LATEST driver version for 91.0.4472\n",
      "[WDM] - Driver [/Users/kevinlee/.wdm/drivers/chromedriver/mac64/91.0.4472.19/chromedriver] found in cache\n"
     ]
    },
    {
     "name": "stdout",
     "output_type": "stream",
     "text": [
      "\n",
      "\n"
     ]
    }
   ],
   "source": [
    "current_browser=browser_init()\n",
    "login(current_browser, username, password)\n",
    "time.sleep(random.randint(MIN_WAIT, MAX_WAIT))"
   ]
  },
  {
   "cell_type": "code",
   "execution_count": 109,
   "id": "a4558ead",
   "metadata": {},
   "outputs": [],
   "source": [
    "def request_connection(browser, record): \n",
    "    alias=get_alias(record['name'])\n",
    "    # check if S/S shows connected\n",
    "    # if not connected\n",
    "    if not record['connected']: \n",
    "        current_browser.visit(record['link'])\n",
    "        time.sleep(random.randint(MIN_WAIT, MAX_WAIT))\n",
    "        # profile is the container div\n",
    "        profile=current_browser.find_by_css('.pvs-profile-actions')\n",
    "        # check if actually not connected\n",
    "        #\n",
    "        #\n",
    "        # check if pending\n",
    "        # check if connect button exists\n",
    "        # connecxt is a button (connect/pending)\n",
    "        connect=profile.find_by_css('button[data-control-name=\"connect\"]')\n",
    "        # if element is not found, find will return an empty list\n",
    "        # if connect button exits, then 2nd connection: \n",
    "        if len(connect) > 0: \n",
    "            # check if pending\n",
    "            if connect.text=='Pending': \n",
    "                print(f'The connect request to {alias} is pending')\n",
    "                record['pending']=True\n",
    "            # check if connect\n",
    "            elif connect.text=='Connect': \n",
    "                print(f'Sending request')\n",
    "                connect.click()\n",
    "                time.sleep(random.randint(MIN_WAIT, MAX_WAIT))\n",
    "                invite_dialog=current_browser.find_by_css('.send-invite')\n",
    "                add_note=invite_dialog.find_by_text('Add a note')\n",
    "                add_note.click()\n",
    "                time.sleep(random.randint(MIN_WAIT, MAX_WAIT))\n",
    "                custom_message=invite_dialog.find_by_id('custom-message')\n",
    "                custom_message.type(generate_invite(alias, get_article_summary(record['article_link'])))\n",
    "                time.sleep(random.randint(MIN_WAIT, MAX_WAIT))\n",
    "                send=invite_dialog.find_by_text('Send')\n",
    "                send.click()\n",
    "                record['pending']=True\n",
    "            # unlikely to be neither connect or pending but just in case\n",
    "            else: \n",
    "                pass\n",
    "        # else this is a 3rd connection\n",
    "        else: \n",
    "            print(f'No connect button')\n",
    "            # more is a button\n",
    "            more=profile.find_by_css('.artdeco-dropdown__trigger')\n",
    "            more.click()\n",
    "            time.sleep(random.randint(MIN_WAIT, MAX_WAIT))\n",
    "            # connect is same layer as more\n",
    "            connect=profile.find_by_css('div[data-control-name=\"connect\"]')\n",
    "            if len(connect)>0: \n",
    "                if 'connect' in connect.text.lower(): \n",
    "                    connect.click()\n",
    "                    # might need to wait longer here\n",
    "                    time.sleep(random.randint(MIN_WAIT, MAX_WAIT))\n",
    "                    invite_dialog=current_browser.find_by_css('.send-invite')\n",
    "                    # if a dialog pops up then it's not pending\n",
    "                    # if verification pops up then it's no good\n",
    "                    verification=invite_dialog.find_by_name('email')\n",
    "                    if not len(verification)>0: \n",
    "                        print(f'Sending invite')\n",
    "                        add_note=invite_dialog.find_by_text('Add a note')\n",
    "                        add_note.click()\n",
    "                        time.sleep(random.randint(MIN_WAIT, MAX_WAIT))\n",
    "                        custom_message=invite_dialog.find_by_id('custom-message')\n",
    "                        custom_message.type(generate_invite(alias, get_article_summary(record['article_link'])))\n",
    "                        time.sleep(random.randint(MIN_WAIT, MAX_WAIT))\n",
    "                        send=invite_dialog.find_by_text('Send')\n",
    "                        send.click()\n",
    "                        record['pending']=True\n",
    "                    else: \n",
    "                        print(f'This member wants verification for the invite')\n",
    "                else: \n",
    "                    # pending, as in found in text\n",
    "#                     'pending' in connect.text.lower(): \n",
    "                    record['pending']=True\n",
    "                    print(f'The connect request to {alias} is pending')\n",
    "            else: \n",
    "                print(f'No more -> connect button')\n",
    "    # already connected\n",
    "    else: \n",
    "        record['pending']=False\n",
    "        print(f\"You're connected with {alias}\")\n",
    "    return True"
   ]
  },
  {
   "cell_type": "code",
   "execution_count": 101,
   "id": "d3bd8907",
   "metadata": {},
   "outputs": [
    {
     "data": {
      "text/plain": [
       "'Hi Nicola - I wanted to thank you for taking the time to read and like my article on sentiment analysis. I enjoy learning about what other data-focused people are interested in and working on. I would love to make a connection.'"
      ]
     },
     "execution_count": 101,
     "metadata": {},
     "output_type": "execute_result"
    }
   ],
   "source": [
    "generate_invite(get_alias(sample['name']), get_article_summary(sample['article_link']))\n",
    "\n",
    "\n"
   ]
  },
  {
   "cell_type": "code",
   "execution_count": 1,
   "id": "80ad9071",
   "metadata": {
    "scrolled": false
   },
   "outputs": [
    {
     "ename": "NameError",
     "evalue": "name 'df' is not defined",
     "output_type": "error",
     "traceback": [
      "\u001b[0;31m---------------------------------------------------------------------------\u001b[0m",
      "\u001b[0;31mNameError\u001b[0m                                 Traceback (most recent call last)",
      "\u001b[0;32m<ipython-input-1-3c43a4487652>\u001b[0m in \u001b[0;36m<module>\u001b[0;34m\u001b[0m\n\u001b[0;32m----> 1\u001b[0;31m \u001b[0msample\u001b[0m\u001b[0;34m=\u001b[0m\u001b[0mdf\u001b[0m\u001b[0;34m.\u001b[0m\u001b[0mloc\u001b[0m\u001b[0;34m[\u001b[0m\u001b[0;36m54\u001b[0m\u001b[0;34m]\u001b[0m\u001b[0;34m.\u001b[0m\u001b[0mto_dict\u001b[0m\u001b[0;34m(\u001b[0m\u001b[0;34m)\u001b[0m\u001b[0;34m\u001b[0m\u001b[0;34m\u001b[0m\u001b[0m\n\u001b[0m",
      "\u001b[0;31mNameError\u001b[0m: name 'df' is not defined"
     ]
    }
   ],
   "source": [
    "sample=df.loc[54].to_dict()"
   ]
  },
  {
   "cell_type": "code",
   "execution_count": 110,
   "id": "cfb28939",
   "metadata": {},
   "outputs": [
    {
     "name": "stdout",
     "output_type": "stream",
     "text": [
      "No connect button\n",
      "This member wants verification for the invite\n"
     ]
    },
    {
     "data": {
      "text/plain": [
       "True"
      ]
     },
     "execution_count": 110,
     "metadata": {},
     "output_type": "execute_result"
    }
   ],
   "source": [
    "request_connection(current_browser, sample)"
   ]
  },
  {
   "cell_type": "code",
   "execution_count": 112,
   "id": "04ad92cb",
   "metadata": {},
   "outputs": [
    {
     "name": "stdout",
     "output_type": "stream",
     "text": [
      "-=====74=====-\n",
      "No connect button\n",
      "Sending invite\n",
      "-=====75=====-\n",
      "No connect button\n",
      "Sending invite\n",
      "-=====76=====-\n",
      "No connect button\n",
      "Sending invite\n",
      "-=====77=====-\n",
      "No connect button\n",
      "Sending invite\n",
      "-=====78=====-\n",
      "Sending request\n",
      "-=====79=====-\n",
      "No connect button\n",
      "Sending invite\n",
      "-=====80=====-\n",
      "No connect button\n",
      "Sending invite\n",
      "-=====81=====-\n",
      "No connect button\n",
      "Sending invite\n",
      "-=====82=====-\n",
      "No connect button\n",
      "Sending invite\n",
      "-=====83=====-\n",
      "No connect button\n",
      "Sending invite\n",
      "-=====84=====-\n",
      "No connect button\n",
      "Sending invite\n",
      "-=====85=====-\n",
      "No connect button\n",
      "Sending invite\n",
      "-=====86=====-\n",
      "No connect button\n",
      "Sending invite\n",
      "-=====87=====-\n",
      "No connect button\n",
      "Sending invite\n",
      "-=====88=====-\n",
      "No connect button\n",
      "Sending invite\n",
      "-=====89=====-\n",
      "No connect button\n",
      "Sending invite\n",
      "-=====90=====-\n",
      "No connect button\n",
      "Sending invite\n",
      "-=====91=====-\n",
      "No connect button\n",
      "Sending invite\n",
      "-=====92=====-\n",
      "No connect button\n",
      "Sending invite\n",
      "-=====93=====-\n",
      "No connect button\n",
      "Sending invite\n",
      "-=====94=====-\n",
      "Sending request\n",
      "-=====95=====-\n",
      "No connect button\n",
      "Sending invite\n",
      "-=====96=====-\n",
      "No connect button\n",
      "Sending invite\n",
      "-=====97=====-\n",
      "No connect button\n",
      "Sending invite\n",
      "-=====98=====-\n",
      "No connect button\n",
      "Sending invite\n",
      "-=====99=====-\n",
      "No connect button\n",
      "Sending invite\n",
      "-=====100=====-\n",
      "No connect button\n",
      "Sending invite\n",
      "-=====101=====-\n",
      "Sending request\n",
      "-=====102=====-\n",
      "Sending request\n",
      "-=====103=====-\n",
      "No connect button\n",
      "Sending invite\n",
      "-=====104=====-\n",
      "No connect button\n",
      "Sending invite\n",
      "-=====105=====-\n",
      "No connect button\n",
      "Sending invite\n",
      "-=====106=====-\n",
      "No connect button\n",
      "Sending invite\n",
      "-=====107=====-\n",
      "No connect button\n",
      "Sending invite\n",
      "-=====108=====-\n",
      "No connect button\n",
      "Sending invite\n",
      "-=====109=====-\n",
      "No connect button\n",
      "This member wants verification for the invite\n",
      "-=====110=====-\n",
      "No connect button\n",
      "Sending invite\n",
      "-=====111=====-\n",
      "No connect button\n",
      "Sending invite\n",
      "-=====112=====-\n",
      "No connect button\n",
      "Sending invite\n",
      "-=====113=====-\n",
      "No connect button\n",
      "Sending invite\n",
      "-=====114=====-\n",
      "No connect button\n",
      "Sending invite\n",
      "-=====115=====-\n",
      "No connect button\n",
      "Sending invite\n",
      "-=====116=====-\n",
      "No connect button\n",
      "Sending invite\n",
      "-=====117=====-\n",
      "No connect button\n",
      "Sending invite\n",
      "-=====118=====-\n",
      "No connect button\n",
      "Sending invite\n",
      "-=====119=====-\n",
      "No connect button\n",
      "Sending invite\n",
      "-=====120=====-\n",
      "No connect button\n",
      "Sending invite\n",
      "-=====121=====-\n",
      "No connect button\n",
      "Sending invite\n",
      "-=====122=====-\n",
      "No connect button\n",
      "Sending invite\n",
      "-=====123=====-\n",
      "No connect button\n",
      "Sending invite\n",
      "-=====124=====-\n",
      "No connect button\n",
      "Sending invite\n",
      "-=====125=====-\n",
      "Sending request\n",
      "-=====126=====-\n",
      "No connect button\n",
      "Sending invite\n",
      "-=====127=====-\n",
      "Sending request\n",
      "-=====128=====-\n",
      "No connect button\n",
      "Sending invite\n",
      "-=====129=====-\n",
      "No connect button\n",
      "Sending invite\n",
      "-=====130=====-\n",
      "Sending request\n",
      "-=====131=====-\n",
      "No connect button\n",
      "Sending invite\n",
      "-=====132=====-\n",
      "No connect button\n",
      "Sending invite\n",
      "-=====133=====-\n",
      "No connect button\n",
      "Sending invite\n",
      "-=====134=====-\n",
      "No connect button\n",
      "Sending invite\n",
      "-=====135=====-\n",
      "No connect button\n",
      "Sending invite\n",
      "-=====136=====-\n"
     ]
    },
    {
     "ename": "KeyboardInterrupt",
     "evalue": "",
     "output_type": "error",
     "traceback": [
      "\u001b[0;31m---------------------------------------------------------------------------\u001b[0m",
      "\u001b[0;31mKeyboardInterrupt\u001b[0m                         Traceback (most recent call last)",
      "\u001b[0;32m<ipython-input-112-7989ad70c4b4>\u001b[0m in \u001b[0;36m<module>\u001b[0;34m\u001b[0m\n\u001b[1;32m      2\u001b[0m     \u001b[0;32mif\u001b[0m \u001b[0;34m(\u001b[0m\u001b[0midx\u001b[0m\u001b[0;34m>\u001b[0m\u001b[0;36m73\u001b[0m\u001b[0;34m)\u001b[0m\u001b[0;34m:\u001b[0m \u001b[0;31m# & (idx<20):\u001b[0m\u001b[0;34m\u001b[0m\u001b[0;34m\u001b[0m\u001b[0m\n\u001b[1;32m      3\u001b[0m         \u001b[0mprint\u001b[0m\u001b[0;34m(\u001b[0m\u001b[0;34mf'-====={idx}=====-'\u001b[0m\u001b[0;34m)\u001b[0m\u001b[0;34m\u001b[0m\u001b[0;34m\u001b[0m\u001b[0m\n\u001b[0;32m----> 4\u001b[0;31m         \u001b[0mrequest_connection\u001b[0m\u001b[0;34m(\u001b[0m\u001b[0mcurrent_browser\u001b[0m\u001b[0;34m,\u001b[0m \u001b[0meach_record\u001b[0m\u001b[0;34m.\u001b[0m\u001b[0mto_dict\u001b[0m\u001b[0;34m(\u001b[0m\u001b[0;34m)\u001b[0m\u001b[0;34m)\u001b[0m\u001b[0;34m\u001b[0m\u001b[0;34m\u001b[0m\u001b[0m\n\u001b[0m",
      "\u001b[0;32m<ipython-input-109-d5ca08d90c04>\u001b[0m in \u001b[0;36mrequest_connection\u001b[0;34m(browser, record)\u001b[0m\n\u001b[1;32m      5\u001b[0m     \u001b[0;32mif\u001b[0m \u001b[0;32mnot\u001b[0m \u001b[0mrecord\u001b[0m\u001b[0;34m[\u001b[0m\u001b[0;34m'connected'\u001b[0m\u001b[0;34m]\u001b[0m\u001b[0;34m:\u001b[0m\u001b[0;34m\u001b[0m\u001b[0;34m\u001b[0m\u001b[0m\n\u001b[1;32m      6\u001b[0m         \u001b[0mcurrent_browser\u001b[0m\u001b[0;34m.\u001b[0m\u001b[0mvisit\u001b[0m\u001b[0;34m(\u001b[0m\u001b[0mrecord\u001b[0m\u001b[0;34m[\u001b[0m\u001b[0;34m'link'\u001b[0m\u001b[0;34m]\u001b[0m\u001b[0;34m)\u001b[0m\u001b[0;34m\u001b[0m\u001b[0;34m\u001b[0m\u001b[0m\n\u001b[0;32m----> 7\u001b[0;31m         \u001b[0mtime\u001b[0m\u001b[0;34m.\u001b[0m\u001b[0msleep\u001b[0m\u001b[0;34m(\u001b[0m\u001b[0mrandom\u001b[0m\u001b[0;34m.\u001b[0m\u001b[0mrandint\u001b[0m\u001b[0;34m(\u001b[0m\u001b[0mMIN_WAIT\u001b[0m\u001b[0;34m,\u001b[0m \u001b[0mMAX_WAIT\u001b[0m\u001b[0;34m)\u001b[0m\u001b[0;34m)\u001b[0m\u001b[0;34m\u001b[0m\u001b[0;34m\u001b[0m\u001b[0m\n\u001b[0m\u001b[1;32m      8\u001b[0m         \u001b[0;31m# profile is the container div\u001b[0m\u001b[0;34m\u001b[0m\u001b[0;34m\u001b[0m\u001b[0;34m\u001b[0m\u001b[0m\n\u001b[1;32m      9\u001b[0m         \u001b[0mprofile\u001b[0m\u001b[0;34m=\u001b[0m\u001b[0mcurrent_browser\u001b[0m\u001b[0;34m.\u001b[0m\u001b[0mfind_by_css\u001b[0m\u001b[0;34m(\u001b[0m\u001b[0;34m'.pvs-profile-actions'\u001b[0m\u001b[0;34m)\u001b[0m\u001b[0;34m\u001b[0m\u001b[0;34m\u001b[0m\u001b[0m\n",
      "\u001b[0;31mKeyboardInterrupt\u001b[0m: "
     ]
    }
   ],
   "source": [
    "for idx, each_record in df.iterrows(): \n",
    "    if (idx>73): # & (idx<20):\n",
    "        print(f'-====={idx}=====-')\n",
    "        request_connection(current_browser, each_record.to_dict())"
   ]
  },
  {
   "cell_type": "code",
   "execution_count": 93,
   "id": "69b42d08",
   "metadata": {},
   "outputs": [
    {
     "data": {
      "text/plain": [
       "3"
      ]
     },
     "execution_count": 93,
     "metadata": {},
     "output_type": "execute_result"
    }
   ],
   "source": [
    "len(current_browser.find_by_css('.artdeco-dropdown__trigger'))"
   ]
  },
  {
   "cell_type": "code",
   "execution_count": 172,
   "id": "4163e210",
   "metadata": {},
   "outputs": [],
   "source": [
    "df.to_csv('data/list.csv', index=False)"
   ]
  },
  {
   "cell_type": "code",
   "execution_count": 2,
   "id": "dcc337da",
   "metadata": {
    "scrolled": true
   },
   "outputs": [],
   "source": [
    "# df.head()"
   ]
  },
  {
   "cell_type": "code",
   "execution_count": null,
   "id": "8c569470",
   "metadata": {},
   "outputs": [],
   "source": []
  }
 ],
 "metadata": {
  "kernelspec": {
   "display_name": "Python 3",
   "language": "python",
   "name": "python3"
  },
  "language_info": {
   "codemirror_mode": {
    "name": "ipython",
    "version": 3
   },
   "file_extension": ".py",
   "mimetype": "text/x-python",
   "name": "python",
   "nbconvert_exporter": "python",
   "pygments_lexer": "ipython3",
   "version": "3.7.1"
  }
 },
 "nbformat": 4,
 "nbformat_minor": 5
}
